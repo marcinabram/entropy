{
 "cells": [
  {
   "cell_type": "code",
   "execution_count": 1,
   "metadata": {},
   "outputs": [],
   "source": [
    "import collections\n",
    "import math\n",
    "import numpy\n",
    "import random"
   ]
  },
  {
   "cell_type": "markdown",
   "metadata": {},
   "source": [
    "# Prepare data"
   ]
  },
  {
   "cell_type": "code",
   "execution_count": 2,
   "metadata": {},
   "outputs": [],
   "source": [
    "small = [round(random.random()) for _ in range(10**5)]"
   ]
  },
  {
   "cell_type": "code",
   "execution_count": 3,
   "metadata": {},
   "outputs": [],
   "source": [
    "signal = [round(random.random()) for _ in range(10**7)]"
   ]
  },
  {
   "cell_type": "markdown",
   "metadata": {},
   "source": [
    "# Pure python"
   ]
  },
  {
   "cell_type": "code",
   "execution_count": 4,
   "metadata": {},
   "outputs": [],
   "source": [
    "def entropy(signal: list, window: int) -> float:\n",
    "    \"\"\" Computes entropy of a signal. \"\"\"\n",
    "    n = len(signal)//window\n",
    "    \n",
    "    counter = {}\n",
    "    for i in range(n):\n",
    "        sub = tuple(signal[i*window:(i+1)*window])\n",
    "        if sub not in counter:\n",
    "            counter[sub] =0\n",
    "        counter[sub] += 1\n",
    "        \n",
    "    probs = [float(v)/n for v in counter.values()]\n",
    "    n_probs = len(probs)\n",
    "        \n",
    "    if n_probs <= 1:\n",
    "        return 0\n",
    "    \n",
    "    return -sum([p*math.log2(p) for p in probs])/window"
   ]
  },
  {
   "cell_type": "code",
   "execution_count": 5,
   "metadata": {},
   "outputs": [
    {
     "data": {
      "text/plain": [
       "0.9999999496525598"
      ]
     },
     "execution_count": 5,
     "metadata": {},
     "output_type": "execute_result"
    }
   ],
   "source": [
    "entropy(signal, window=2)"
   ]
  },
  {
   "cell_type": "code",
   "execution_count": 6,
   "metadata": {},
   "outputs": [
    {
     "name": "stdout",
     "output_type": "stream",
     "text": [
      "2.25 s ± 30.7 ms per loop (mean ± std. dev. of 7 runs, 1 loop each)\n"
     ]
    }
   ],
   "source": [
    "%timeit entropy(signal, window=2)"
   ]
  },
  {
   "cell_type": "code",
   "execution_count": 7,
   "metadata": {},
   "outputs": [
    {
     "name": "stdout",
     "output_type": "stream",
     "text": [
      "742 ms ± 4.42 ms per loop (mean ± std. dev. of 7 runs, 1 loop each)\n"
     ]
    }
   ],
   "source": [
    "%timeit entropy(signal, window=20)"
   ]
  },
  {
   "cell_type": "markdown",
   "metadata": {},
   "source": [
    "# Interruptions"
   ]
  },
  {
   "cell_type": "code",
   "execution_count": 8,
   "metadata": {},
   "outputs": [],
   "source": [
    "def entropy(signal: list, window: int) -> float:\n",
    "    \"\"\" Computes entropy of a signal. \"\"\"\n",
    "    n = len(signal)//window\n",
    "    \n",
    "    counter = {}\n",
    "    for i in range(n):\n",
    "        sub = tuple(signal[i*window:(i+1)*window])\n",
    "        try:\n",
    "            counter[sub] += 1\n",
    "        except KeyError:\n",
    "            counter[sub] = 1\n",
    "        \n",
    "    probs = [float(v)/n for v in counter.values()]\n",
    "    n_probs = len(probs)\n",
    "        \n",
    "    if n_probs <= 1:\n",
    "        return 0\n",
    "    return -sum([p*math.log2(p) for p in probs])/window"
   ]
  },
  {
   "cell_type": "code",
   "execution_count": 9,
   "metadata": {},
   "outputs": [
    {
     "data": {
      "text/plain": [
       "0.9999999496525598"
      ]
     },
     "execution_count": 9,
     "metadata": {},
     "output_type": "execute_result"
    }
   ],
   "source": [
    "entropy(signal, window=2)"
   ]
  },
  {
   "cell_type": "code",
   "execution_count": 10,
   "metadata": {},
   "outputs": [
    {
     "name": "stdout",
     "output_type": "stream",
     "text": [
      "1.98 s ± 5.24 ms per loop (mean ± std. dev. of 7 runs, 1 loop each)\n"
     ]
    }
   ],
   "source": [
    "%timeit entropy(signal, window=2)"
   ]
  },
  {
   "cell_type": "code",
   "execution_count": 11,
   "metadata": {},
   "outputs": [
    {
     "name": "stdout",
     "output_type": "stream",
     "text": [
      "659 ms ± 9.17 ms per loop (mean ± std. dev. of 7 runs, 1 loop each)\n"
     ]
    }
   ],
   "source": [
    "%timeit entropy(signal, window=20)"
   ]
  },
  {
   "cell_type": "markdown",
   "metadata": {},
   "source": [
    "# Collections 1"
   ]
  },
  {
   "cell_type": "code",
   "execution_count": 12,
   "metadata": {},
   "outputs": [],
   "source": [
    "def entropy(signal: list, window: int) -> float:\n",
    "    \"\"\" Computes entropy of a signal. \"\"\"\n",
    "    n = len(signal)//window\n",
    "    \n",
    "    counter = collections.defaultdict(float)\n",
    "    for i in range(n):\n",
    "        sub = tuple(signal[i*window:(i+1)*window])\n",
    "        counter[sub] += 1\n",
    "        \n",
    "    probs = [float(v)/n for v in counter.values()]\n",
    "    n_probs = len(probs)\n",
    "        \n",
    "    if n_probs <= 1:\n",
    "        return 0\n",
    "    \n",
    "    return -sum([p*math.log2(p) for p in probs])/window"
   ]
  },
  {
   "cell_type": "code",
   "execution_count": 13,
   "metadata": {},
   "outputs": [
    {
     "data": {
      "text/plain": [
       "0.9999999496525598"
      ]
     },
     "execution_count": 13,
     "metadata": {},
     "output_type": "execute_result"
    }
   ],
   "source": [
    "entropy(signal, window=2)"
   ]
  },
  {
   "cell_type": "code",
   "execution_count": 14,
   "metadata": {},
   "outputs": [
    {
     "name": "stdout",
     "output_type": "stream",
     "text": [
      "1.98 s ± 41.9 ms per loop (mean ± std. dev. of 7 runs, 1 loop each)\n"
     ]
    }
   ],
   "source": [
    "%timeit entropy(signal, window=2)"
   ]
  },
  {
   "cell_type": "code",
   "execution_count": 15,
   "metadata": {},
   "outputs": [
    {
     "name": "stdout",
     "output_type": "stream",
     "text": [
      "730 ms ± 8 ms per loop (mean ± std. dev. of 7 runs, 1 loop each)\n"
     ]
    }
   ],
   "source": [
    "%timeit entropy(signal, window=20)"
   ]
  },
  {
   "cell_type": "markdown",
   "metadata": {},
   "source": [
    "# Collections 2"
   ]
  },
  {
   "cell_type": "code",
   "execution_count": 16,
   "metadata": {},
   "outputs": [],
   "source": [
    "def entropy(signal: list, window: int) -> float:\n",
    "    \"\"\" Computes entropy of a signal. \"\"\"\n",
    "    n = len(signal)//window\n",
    "    parts = [tuple(signal[i*window:(i+1)*window]) for i in range(n)]\n",
    "    n_parts = len(parts)\n",
    "    \n",
    "    counts = collections.Counter(parts).values()\n",
    "    probs = [v/n_parts for v in counts]\n",
    "    n_probs = len(probs)\n",
    "\n",
    "    if n_probs <= 1:\n",
    "        return 0\n",
    "    return -sum([p*math.log2(p) for p in probs])/window"
   ]
  },
  {
   "cell_type": "code",
   "execution_count": 17,
   "metadata": {},
   "outputs": [
    {
     "data": {
      "text/plain": [
       "0.9999999496525598"
      ]
     },
     "execution_count": 17,
     "metadata": {},
     "output_type": "execute_result"
    }
   ],
   "source": [
    "entropy(signal, window=2)"
   ]
  },
  {
   "cell_type": "code",
   "execution_count": 18,
   "metadata": {},
   "outputs": [
    {
     "name": "stdout",
     "output_type": "stream",
     "text": [
      "1.92 s ± 4.1 ms per loop (mean ± std. dev. of 7 runs, 1 loop each)\n"
     ]
    }
   ],
   "source": [
    "%timeit entropy(signal, window=2)"
   ]
  },
  {
   "cell_type": "code",
   "execution_count": 19,
   "metadata": {},
   "outputs": [
    {
     "name": "stdout",
     "output_type": "stream",
     "text": [
      "497 ms ± 10.4 ms per loop (mean ± std. dev. of 7 runs, 1 loop each)\n"
     ]
    }
   ],
   "source": [
    "%timeit entropy(signal, window=20)"
   ]
  },
  {
   "cell_type": "markdown",
   "metadata": {},
   "source": [
    "# numpy"
   ]
  },
  {
   "cell_type": "code",
   "execution_count": 102,
   "metadata": {},
   "outputs": [],
   "source": [
    "def entropy(signal: list, window: int) -> float:\n",
    "    \"\"\" Computes entropy of a signal. \"\"\"\n",
    "    signal = [tuple(s) for s in numpy.array(signal).reshape((-1, 2))]\n",
    "    n_signal = len(signal)\n",
    "    \n",
    "    counts = collections.Counter(signal).values()        \n",
    "    probs = [v/n_signal for v in counts]\n",
    "    n_probs = len(probs)\n",
    "        \n",
    "    if n_probs <= 1:\n",
    "        return 0\n",
    "    return -numpy.sum(probs*numpy.log2(probs))/window"
   ]
  },
  {
   "cell_type": "code",
   "execution_count": 103,
   "metadata": {},
   "outputs": [
    {
     "data": {
      "text/plain": [
       "0.9999999496525598"
      ]
     },
     "execution_count": 103,
     "metadata": {},
     "output_type": "execute_result"
    }
   ],
   "source": [
    "entropy(signal, window=2)"
   ]
  },
  {
   "cell_type": "code",
   "execution_count": 22,
   "metadata": {},
   "outputs": [
    {
     "name": "stdout",
     "output_type": "stream",
     "text": [
      "4.64 s ± 4.67 ms per loop (mean ± std. dev. of 7 runs, 1 loop each)\n"
     ]
    }
   ],
   "source": [
    "%timeit entropy(signal, window=2)"
   ]
  },
  {
   "cell_type": "code",
   "execution_count": 23,
   "metadata": {},
   "outputs": [
    {
     "name": "stdout",
     "output_type": "stream",
     "text": [
      "4.66 s ± 6.61 ms per loop (mean ± std. dev. of 7 runs, 1 loop each)\n"
     ]
    }
   ],
   "source": [
    "%timeit entropy(signal, window=20)"
   ]
  },
  {
   "cell_type": "markdown",
   "metadata": {},
   "source": [
    "# pure numpy"
   ]
  },
  {
   "cell_type": "code",
   "execution_count": 104,
   "metadata": {},
   "outputs": [],
   "source": [
    "def entropy(signal: list, window: int) -> float:\n",
    "    \"\"\" Computes entropy of a signal. \"\"\"\n",
    "    if len(signal) < 1:\n",
    "        return 0\n",
    "    \n",
    "    n = len(signal)//window\n",
    "    signal = numpy.array(signal).reshape((-1, 2))\n",
    "    counts = numpy.unique(signal, return_counts=True, axis=0)[1]\n",
    "    \n",
    "    probs = counts / n    \n",
    "    n_probs = len(probs)\n",
    "    \n",
    "    return -numpy.sum(probs*numpy.log2(probs))/window"
   ]
  },
  {
   "cell_type": "code",
   "execution_count": 105,
   "metadata": {},
   "outputs": [
    {
     "data": {
      "text/plain": [
       "0.9999999496525598"
      ]
     },
     "execution_count": 105,
     "metadata": {},
     "output_type": "execute_result"
    }
   ],
   "source": [
    "entropy(signal, window=2)"
   ]
  },
  {
   "cell_type": "code",
   "execution_count": 26,
   "metadata": {},
   "outputs": [
    {
     "name": "stdout",
     "output_type": "stream",
     "text": [
      "4.12 s ± 3.1 ms per loop (mean ± std. dev. of 7 runs, 1 loop each)\n"
     ]
    }
   ],
   "source": [
    "%timeit entropy(signal, window=2)"
   ]
  },
  {
   "cell_type": "code",
   "execution_count": 27,
   "metadata": {},
   "outputs": [
    {
     "name": "stdout",
     "output_type": "stream",
     "text": [
      "4.21 s ± 5.94 ms per loop (mean ± std. dev. of 7 runs, 1 loop each)\n"
     ]
    }
   ],
   "source": [
    "%timeit entropy(signal, window=20)"
   ]
  },
  {
   "cell_type": "markdown",
   "metadata": {},
   "source": [
    "# Fastest"
   ]
  },
  {
   "cell_type": "code",
   "execution_count": 139,
   "metadata": {},
   "outputs": [],
   "source": [
    "def entropy(signal: list, window: int) -> float:\n",
    "    \"\"\" Computes entropy of a signal. \"\"\"\n",
    "    n = len(signal)//window\n",
    "    parts = [tuple(signal[i*window:(i+1)*window]) for i in range(n)]    \n",
    "    counter = list(collections.Counter(parts).values())\n",
    "\n",
    "    if len(counter) <= 1:\n",
    "        return 0\n",
    "    \n",
    "    norm = math.log2(len(parts))\n",
    "    return (-sum([c*math.log2(c) for c in counter])/len(parts) + norm)/window"
   ]
  },
  {
   "cell_type": "code",
   "execution_count": 140,
   "metadata": {},
   "outputs": [
    {
     "data": {
      "text/plain": [
       "0.99999994965256"
      ]
     },
     "execution_count": 140,
     "metadata": {},
     "output_type": "execute_result"
    }
   ],
   "source": [
    "entropy(signal, window=2)"
   ]
  },
  {
   "cell_type": "code",
   "execution_count": 141,
   "metadata": {},
   "outputs": [
    {
     "name": "stdout",
     "output_type": "stream",
     "text": [
      "1.93 s ± 4.65 ms per loop (mean ± std. dev. of 7 runs, 1 loop each)\n"
     ]
    }
   ],
   "source": [
    "%timeit entropy(signal, window=2)"
   ]
  },
  {
   "cell_type": "code",
   "execution_count": 142,
   "metadata": {},
   "outputs": [
    {
     "name": "stdout",
     "output_type": "stream",
     "text": [
      "448 ms ± 5.39 ms per loop (mean ± std. dev. of 7 runs, 1 loop each)\n"
     ]
    }
   ],
   "source": [
    "%timeit entropy(signal, window=20)"
   ]
  }
 ],
 "metadata": {
  "kernelspec": {
   "display_name": "Python 3",
   "language": "python",
   "name": "python3"
  },
  "language_info": {
   "codemirror_mode": {
    "name": "ipython",
    "version": 3
   },
   "file_extension": ".py",
   "mimetype": "text/x-python",
   "name": "python",
   "nbconvert_exporter": "python",
   "pygments_lexer": "ipython3",
   "version": "3.6.5"
  }
 },
 "nbformat": 4,
 "nbformat_minor": 2
}
